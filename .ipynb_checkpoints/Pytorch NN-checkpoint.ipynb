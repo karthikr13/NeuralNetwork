{
 "cells": [
  {
   "cell_type": "code",
   "execution_count": 2,
   "metadata": {},
   "outputs": [],
   "source": [
    "import torch\n",
    "import torch.nn as nn\n",
    "import torch.nn.functional as F\n",
    "import numpy as np\n",
    "import matplotlib.pyplot as plt"
   ]
  },
  {
   "cell_type": "code",
   "execution_count": 59,
   "metadata": {},
   "outputs": [],
   "source": [
    "class Net(nn.Module):\n",
    "    def __init__(self, ins, hidden, outs, nonlinear = 'sigmoid', classification = True):\n",
    "        super().__init__()\n",
    "        self.hidden = nn.Linear(in_features = ins, out_features = hidden)\n",
    "        self.output = nn.Linear(in_features = hidden, out_features = outs)\n",
    "        self.classification = classification\n",
    "        if self.classification:\n",
    "            self.softmax = nn.Softmax(dim=1)\n",
    "            self.lossfn = nn.CrossEntropyLoss()\n",
    "        else:\n",
    "            self.lossfn = nn.MSELoss()\n",
    "        if(nonlinear == 'sigmoid'):\n",
    "            self.nonlinear = torch.sigmoid\n",
    "        else:\n",
    "            self.nonlinear = F.relu\n",
    "        print(self)\n",
    "        plt.xlabel('Epoch')\n",
    "        plt.ylabel('MSE')\n",
    "        plt.title('MSE at each training epoch')\n",
    "    def forward(self, x):\n",
    "        x = self.nonlinear(self.hidden(x))\n",
    "        x = self.output(x)\n",
    "        return x\n",
    "    def train(self, x_train, y_train, x_test, y_test, epochs = 1000):\n",
    "        self.optimizer = torch.optim.Adam(self.parameters(), lr = 0.01)\n",
    "        losses=[]\n",
    "        test_loss=[]\n",
    "        for i in range(epochs):\n",
    "            self.optimizer.zero_grad()\n",
    "            y_hat = self.forward(x_train)\n",
    "            loss = self.lossfn(y_hat, y_train)\n",
    "            losses.append(loss)\n",
    "            loss.backward()\n",
    "            self.optimizer.step()\n",
    "            with torch.no_grad():\n",
    "                y_pred = self.forward(x_test)\n",
    "                test_loss.append(self.lossfn(y_pred, y_test))\n",
    "            \n",
    "        plt.plot(np.arange(0, epochs),  losses, label = 'training')\n",
    "        plt.plot(np.arange(0, epochs),  test_loss, label = 'test')\n",
    "        plt.legend()"
   ]
  },
  {
   "cell_type": "code",
   "execution_count": 60,
   "metadata": {},
   "outputs": [],
   "source": [
    "raw_data = np.genfromtxt('iris.data', delimiter=',', dtype = None, encoding = None)\n",
    "num_label_data = []\n",
    "\n",
    "iris_dict = {\n",
    "    \"Iris-setosa\": 0,\n",
    "    \"Iris-versicolor\": 1,\n",
    "    \"Iris-virginica\": 2\n",
    "}\n",
    "\n",
    "for row in raw_data:\n",
    "    sep_len, sep_width, pet_len, pet_width, label = row\n",
    "    label = iris_dict[label]\n",
    "    #using the max of each attribute (provided in iris.names on the dataset) to normalize\n",
    "    sep_len /= 7.6\n",
    "    sep_width /= 4.4\n",
    "    pet_len /= 6.9\n",
    "    pet_width /= 2.5\n",
    "    num_label_data.append((sep_len, sep_width, pet_len, pet_width, int(label)))\n",
    "\n",
    "np.random.shuffle(num_label_data)\n",
    "\n",
    "train_test_spl = int(len(raw_data) * 0.85)\n",
    "train = np.array(num_label_data[:train_test_spl])\n",
    "test = np.array(num_label_data[train_test_spl:])\n",
    "x_train = torch.FloatTensor(train[:, :-1])\n",
    "y_train = torch.LongTensor(train[:, -1])\n",
    "x_test = torch.FloatTensor(test[:, :-1])\n",
    "y_test = torch.LongTensor(test[:, -1])"
   ]
  },
  {
   "cell_type": "code",
   "execution_count": 61,
   "metadata": {},
   "outputs": [
    {
     "name": "stdout",
     "output_type": "stream",
     "text": [
      "Net(\n",
      "  (hidden): Linear(in_features=4, out_features=20, bias=True)\n",
      "  (output): Linear(in_features=20, out_features=3, bias=True)\n",
      "  (softmax): Softmax(dim=1)\n",
      "  (lossfn): CrossEntropyLoss()\n",
      ")\n"
     ]
    },
    {
     "data": {
      "image/png": "[encoded data removed]",
      "text/plain": [
       "<Figure size 432x288 with 1 Axes>"
      ]
     },
     "metadata": {
      "needs_background": "light"
     },
     "output_type": "display_data"
    }
   ],
   "source": [
    "net_iris = Net(4, 20, 3, nonlinear = 'relu')\n",
    "net_iris.train(x_train, y_train, x_test, y_test)"
   ]
  },
  {
   "cell_type": "code",
   "execution_count": 74,
   "metadata": {},
   "outputs": [],
   "source": [
    "import pandas as pd\n",
    "from sklearn import preprocessing\n",
    "\n",
    "raw_data = pd.read_csv('forestfires.csv')\n",
    "month_map = {'jan': 1, 'feb': 2, 'mar': 3, 'apr': 4, 'may': 5, 'jun': 6, 'jul':7, 'aug':8, 'sep':9, 'oct':10, 'nov':11, 'dec':12}\n",
    "day_map = {'sun': 1, 'mon': 2, 'tue': 3, 'wed':4, 'thu':5, 'fri':6, 'sat': 7}\n",
    "raw_data.month = raw_data.month.map(month_map)\n",
    "raw_data.day = raw_data.day.map(day_map)\n",
    "\n",
    "min_max_scaler = preprocessing.MinMaxScaler()\n",
    "inp = min_max_scaler.fit_transform(inp)\n",
    "np.random.shuffle(inp)\n",
    "#inp = raw_data.values\n",
    "train_test_spl_reg = int(len(inp) * 0.85)\n",
    "train = np.array(inp[:train_test_spl])\n",
    "test = np.array(inp[train_test_spl:])\n",
    "y_train, y_test = [], []\n",
    "for y in train[:, -1]:\n",
    "    y_train.append([y])\n",
    "    \n",
    "for y in test[:, -1]:\n",
    "    y_test.append([y])\n",
    "y_train = np.array(y_train)\n",
    "x_train = torch.FloatTensor(train[:, :-1])\n",
    "y_train = torch.FloatTensor(y_train)\n",
    "x_test = torch.FloatTensor(test[:, :-1])\n",
    "y_test = torch.FloatTensor(y_test)"
   ]
  },
  {
   "cell_type": "code",
   "execution_count": 75,
   "metadata": {},
   "outputs": [
    {
     "name": "stdout",
     "output_type": "stream",
     "text": [
      "Net(\n",
      "  (hidden): Linear(in_features=12, out_features=20, bias=True)\n",
      "  (output): Linear(in_features=20, out_features=1, bias=True)\n",
      "  (lossfn): MSELoss()\n",
      ")\n"
     ]
    },
    {
     "data": {
      "image/png": "[encoded data removed]",
      "text/plain": [
       "<Figure size 432x288 with 1 Axes>"
      ]
     },
     "metadata": {
      "needs_background": "light"
     },
     "output_type": "display_data"
    }
   ],
   "source": [
    "net2 = Net(12, 20, 1, nonlinear = 'relu', classification = False)\n",
    "net2.train(x_train, y_train, x_test, y_test)"
   ]
  },
  {
   "cell_type": "code",
   "execution_count": null,
   "metadata": {},
   "outputs": [],
   "source": []
  }
 ],
 "metadata": {
  "kernelspec": {
   "display_name": "Python 3",
   "language": "python",
   "name": "python3"
  },
  "language_info": {
   "codemirror_mode": {
    "name": "ipython",
    "version": 3
   },
   "file_extension": ".py",
   "mimetype": "text/x-python",
   "name": "python",
   "nbconvert_exporter": "python",
   "pygments_lexer": "ipython3",
   "version": "3.8.3"
  }
 },
 "nbformat": 4,
 "nbformat_minor": 4
}
