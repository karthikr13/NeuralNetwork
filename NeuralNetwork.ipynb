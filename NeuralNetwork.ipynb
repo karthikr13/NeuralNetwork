{
 "cells": [
  {
   "cell_type": "code",
   "execution_count": 265,
   "metadata": {},
   "outputs": [],
   "source": [
    "import numpy as np\n",
    "import matplotlib.pyplot as plt\n",
    "%matplotlib inline"
   ]
  },
  {
   "cell_type": "code",
   "execution_count": 285,
   "metadata": {},
   "outputs": [],
   "source": [
    "class NeuralNetwork:\n",
    "    def __init__(self, num_in, num_hidden, num_out, learning_rate, activation = 'sigmoid'):\n",
    "        self.lr = learning_rate\n",
    "        self.num_out = num_out\n",
    "        self.layers = []\n",
    "        np.random.seed(40)\n",
    "        hidden = [{\"weights\": [np.random.random() for j in range(num_in + 1)], \"activation\": \"sigmoid\"} for i in range(num_hidden)]\n",
    "        out = [{\"weights\": [np.random.random() for j in range(num_hidden + 1)], \"activation\": activation} for i in range(num_out)]\n",
    "        self.layers.append(hidden)\n",
    "        self.layers.append(out)\n",
    "    \n",
    "    def relu_activation(self, inputs):\n",
    "        return [max(0.0, val) for val in inputs]\n",
    "        \n",
    "    def sigmoid_activation(self, weights, inputs):\n",
    "        lin_sum = weights[-1] #bias\n",
    "        for i in range(len(inputs)):\n",
    "            lin_sum += inputs[i]*weights[i]\n",
    "        return 1.0/(1.0 + np.exp(-lin_sum))\n",
    "    \n",
    "    def derivative_sigmoid(self, sig):\n",
    "        return sig * (1 - sig)\n",
    "    \n",
    "    def derivative_relu(self, inputs):\n",
    "        return [1 if x > 0 else 0 for x in inputs]\n",
    "    \n",
    "    def forward(self, input_vector):\n",
    "        for layer in self.layers:\n",
    "            out = []\n",
    "            for neuron in layer:\n",
    "                if neuron['activation'] == 'sigmoid':\n",
    "                    neuron['out'] = self.sigmoid_activation(neuron['weights'], input_vector)\n",
    "                else:\n",
    "                    activated = self.relu_activation(input_vector)\n",
    "                    neuron['out'] = sum([neuron['weights'][i] * activated[i] for i in range(len(activated))])\n",
    "                out.append(neuron['out'])\n",
    "            input_vector = out\n",
    "        return input_vector\n",
    "    \n",
    "    def back_propogate(self, expected):\n",
    "        for i in range(len(self.layers) - 1, -1, -1):\n",
    "            layer = self.layers[i]\n",
    "            errors = []\n",
    "            if i != len(self.layers) - 1: #bias term\n",
    "                for j in range(len(layer)):\n",
    "                    error_sum = 0\n",
    "                    for neuron in self.layers[i+1]:\n",
    "                        error_sum += neuron['weights'][j] * neuron['delta']\n",
    "                    errors.append(error_sum)\n",
    "            else:\n",
    "                for j in range(len(layer)):\n",
    "                    errors.append(expected[j] - layer[j]['out'])\n",
    "            for j in range(len(layer)):\n",
    "                neuron = layer[j]\n",
    "                if neuron['activation'] == 'sigmoid':\n",
    "                    neuron['delta'] = errors[j] * self.derivative_sigmoid(neuron['out'])\n",
    "                else:\n",
    "                    neuron['delta'] = errors[j] * sum(self.derivative_relu(neuron['out']))\n",
    "    \n",
    "    def update_w(self, row):\n",
    "        for i in range(len(self.layers)):\n",
    "            layer_input = row[:-1]\n",
    "            #no error on the first layer (input layer)\n",
    "            if i != 0:\n",
    "                layer_input = [neuron['out'] for neuron in self.layers[i-1]]\n",
    "            for neuron in self.layers[i]:\n",
    "                for j in range(len(layer_input)):\n",
    "                    neuron['weights'][j] += self.lr * neuron['delta'] * layer_input[j]\n",
    "            neuron['weights'][-1] += self.lr * neuron['delta']\n",
    "    def train(self, train_data, test_data, max_epochs = 1000):\n",
    "        self.graph(max_epochs)\n",
    "        for epoch in range(max_epochs):\n",
    "            train_epoch_error = 0\n",
    "            test_epoch_error = 0\n",
    "            for row in train_data:\n",
    "                epoch_out = self.forward(row)\n",
    "                expected_out_prob = [0 for i in range(self.num_out)]\n",
    "                expected_out_prob[int(row[-1])] = 1\n",
    "                train_epoch_error += sum([(expected_out_prob[i] - epoch_out[i])**2 for i in range(len(expected_out_prob))])\n",
    "                self.back_propogate(expected_out_prob)\n",
    "                self.update_w(row)   \n",
    "            plt.plot(epoch, train_epoch_error, 'ro', label = \"training\")\n",
    "            \n",
    "            for row in test_data:\n",
    "                predicted = self.predict(row)\n",
    "                test_epoch_error += (predicted - row[-1]) ** 2\n",
    "            plt.plot(epoch, test_epoch_error, 'bo', label = \"test\")\n",
    "    def predict(self, row):\n",
    "        out_probs = self.forward(row)\n",
    "        max_prob = float('-inf')\n",
    "        max_ind = -1\n",
    "        for i in range(len(out_probs)):\n",
    "            if out_probs[i] > max_prob:\n",
    "                max_ind = i\n",
    "                max_prob = out_probs[i]\n",
    "        return max_ind\n",
    "    \n",
    "    def graph(self, max_epochs):\n",
    "        plt.xlim(0, max_epochs)\n",
    "        plt.xlabel(\"epochs\")\n",
    "        plt.ylabel(\"least squares error\")"
   ]
  },
  {
   "cell_type": "code",
   "execution_count": 286,
   "metadata": {},
   "outputs": [],
   "source": [
    "raw_data = np.genfromtxt('iris.data', delimiter=',', dtype = None, encoding = None)\n",
    "num_label_data = []\n",
    "\n",
    "iris_dict = {\n",
    "    \"Iris-setosa\": 0,\n",
    "    \"Iris-versicolor\": 1,\n",
    "    \"Iris-virginica\": 2\n",
    "}\n",
    "\n",
    "for row in raw_data:\n",
    "    sep_len, sep_width, pet_len, pet_width, label = row\n",
    "    label = iris_dict[label]\n",
    "    #using the max of each attribute (provided in iris.names on the dataset) to normalize\n",
    "    sep_len /= 7.6\n",
    "    sep_width /= 4.4\n",
    "    pet_len /= 6.9\n",
    "    pet_width /= 2.5\n",
    "    num_label_data.append((sep_len, sep_width, pet_len, pet_width, int(label)))\n",
    "\n",
    "np.random.shuffle(num_label_data)\n",
    "\n",
    "train_test_spl = int(len(raw_data) * 0.85)\n",
    "train = np.array(num_label_data[:train_test_spl])\n",
    "test = np.array(num_label_data[train_test_spl:])"
   ]
  },
  {
   "cell_type": "code",
   "execution_count": 291,
   "metadata": {
    "scrolled": true
   },
   "outputs": [
    {
     "data": {
      "image/png": "[encoded data removed]",
      "text/plain": [
       "<Figure size 432x288 with 1 Axes>"
      ]
     },
     "metadata": {
      "needs_background": "light"
     },
     "output_type": "display_data"
    }
   ],
   "source": [
    "net = NeuralNetwork(4, 20, 3, 0.2, activation = 'sigmoid')\n",
    "net.train(train, test)"
   ]
  },
  {
   "cell_type": "code",
   "execution_count": null,
   "metadata": {},
   "outputs": [],
   "source": []
  }
 ],
 "metadata": {
  "kernelspec": {
   "display_name": "Python 3",
   "language": "python",
   "name": "python3"
  },
  "language_info": {
   "codemirror_mode": {
    "name": "ipython",
    "version": 3
   },
   "file_extension": ".py",
   "mimetype": "text/x-python",
   "name": "python",
   "nbconvert_exporter": "python",
   "pygments_lexer": "ipython3",
   "version": "3.8.3"
  }
 },
 "nbformat": 4,
 "nbformat_minor": 4
}
